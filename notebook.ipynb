{
 "cells": [
  {
   "cell_type": "code",
   "execution_count": null,
   "metadata": {},
   "outputs": [],
   "source": [
    "from random import choice\n",
    "\n",
    "from game import valid, new_board, win_condition, next_player, get_optimal\n",
    "\n",
    "\n",
    "def selector(board, player, turn, initial_move):\n",
    "    possible_moves = valid(board)\n",
    "    if not len(possible_moves):\n",
    "        return False\n",
    "    else:\n",
    "        if player == \"X\" and turn == 1:\n",
    "            i, j = initial_move\n",
    "            return (i, j, player)\n",
    "        else:\n",
    "            i, j = choice(possible_moves)\n",
    "            symbol = player\n",
    "            return (i, j, symbol)"
   ]
  },
  {
   "cell_type": "code",
   "execution_count": 2,
   "metadata": {},
   "outputs": [
    {
     "name": "stdout",
     "output_type": "stream",
     "text": [
      "(0.4957, (0, 6))\n",
      "(0.5094, (0, 0))\n",
      "(0.5316, (1, 0))\n",
      "(0.5324, (1, 6))\n",
      "(0.5553, (2, 0))\n",
      "(0.5617, (2, 6))\n",
      "(0.6034, (3, 6))\n",
      "(0.6003, (3, 0))\n",
      "(0.5602, (4, 6))\n",
      "(0.549, (4, 0))\n",
      "(0.5319, (5, 0))\n",
      "(0.5217, (5, 6))\n",
      "(0.5141, (6, 6))\n",
      "(0.5089, (6, 0))\n",
      "[(0.6034, (3, 6)), (0.6003, (3, 0)), (0.5617, (2, 6)), (0.5602, (4, 6)), (0.5553, (2, 0)), (0.549, (4, 0)), (0.5324, (1, 6)), (0.5319, (5, 0)), (0.5316, (1, 0)), (0.5217, (5, 6)), (0.5141, (6, 6)), (0.5094, (0, 0)), (0.5089, (6, 0)), (0.4957, (0, 6))]\n"
     ]
    }
   ],
   "source": [
    "best_moves = []\n",
    "fresh_board = new_board()\n",
    "initial_moves = valid(fresh_board)\n",
    "for initial_move in initial_moves:\n",
    "    n = 10000\n",
    "    x = 0\n",
    "    o = 0\n",
    "    total = x + o\n",
    "    turns = []\n",
    "\n",
    "    for m in range(n):\n",
    "        board = new_board()\n",
    "        winning_condition = False\n",
    "        turn = 1\n",
    "        player = \"X\"\n",
    "\n",
    "        while not winning_condition:\n",
    "            current_board = board\n",
    "            current_player = player\n",
    "            move = selector(current_board, current_player, turn, initial_move)\n",
    "            if move:\n",
    "                i, j, symbol = move\n",
    "                current_board[i][j] = current_player\n",
    "                winning_condition = win_condition(current_board, current_player)\n",
    "                if winning_condition:\n",
    "                    break\n",
    "                else:\n",
    "                    player = next_player(current_player)\n",
    "                    if player == \"X\":\n",
    "                        turn += 1\n",
    "            else:\n",
    "                winning_condition = \"tie\"\n",
    "\n",
    "        if player == \"X\":\n",
    "            x += 1\n",
    "        if player == \"O\":\n",
    "            o += 1\n",
    "        turns.append(turn)\n",
    "    best_moves.append((x / (x + o), initial_move))\n",
    "    print((x / (x + o), initial_move))\n",
    "print(sorted(best_moves, reverse=True))"
   ]
  }
 ],
 "metadata": {
  "kernelspec": {
   "display_name": ".venv",
   "language": "python",
   "name": "python3"
  },
  "language_info": {
   "codemirror_mode": {
    "name": "ipython",
    "version": 3
   },
   "file_extension": ".py",
   "mimetype": "text/x-python",
   "name": "python",
   "nbconvert_exporter": "python",
   "pygments_lexer": "ipython3",
   "version": "3.12.8"
  }
 },
 "nbformat": 4,
 "nbformat_minor": 2
}
