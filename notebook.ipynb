{
 "cells": [
  {
   "cell_type": "code",
   "execution_count": 6,
   "metadata": {},
   "outputs": [],
   "source": [
    "from random import choice\n",
    "\n",
    "from game import Board, valid, win_condition, next_player\n",
    "\n",
    "size = 7\n",
    "\n",
    "initial_board: Board = [[None for j in range(size)] for i in range(size)]\n",
    "\n",
    "n = 10000\n",
    "x = 0\n",
    "o = 0\n",
    "turns = []\n",
    "\n",
    "for m in range(n):\n",
    "    board = [row[:] for row in initial_board]\n",
    "    winning_condition = False\n",
    "    turn = 1\n",
    "    player = \"X\"\n",
    "\n",
    "    while not winning_condition:\n",
    "        valid_moves = valid(board)\n",
    "        if len(valid_moves):\n",
    "            i, j = choice(valid_moves)\n",
    "            board[i][j] = player\n",
    "            winning_condition = win_condition(board, player)\n",
    "            if winning_condition:\n",
    "                break\n",
    "            else:\n",
    "                player = next_player(player)\n",
    "                if player == \"X\":\n",
    "                    turn += 1\n",
    "        else:\n",
    "            winning_condition = \"tie\"\n",
    "\n",
    "    if player == \"X\":\n",
    "        x += 1\n",
    "    if player == \"O\":\n",
    "        o += 1\n",
    "    turns.append(turn)"
   ]
  },
  {
   "cell_type": "code",
   "execution_count": 7,
   "metadata": {},
   "outputs": [
    {
     "data": {
      "text/plain": [
       "0.5461"
      ]
     },
     "execution_count": 7,
     "metadata": {},
     "output_type": "execute_result"
    }
   ],
   "source": [
    "x / (x + o)"
   ]
  }
 ],
 "metadata": {
  "kernelspec": {
   "display_name": ".venv",
   "language": "python",
   "name": "python3"
  },
  "language_info": {
   "codemirror_mode": {
    "name": "ipython",
    "version": 3
   },
   "file_extension": ".py",
   "mimetype": "text/x-python",
   "name": "python",
   "nbconvert_exporter": "python",
   "pygments_lexer": "ipython3",
   "version": "3.12.8"
  }
 },
 "nbformat": 4,
 "nbformat_minor": 2
}
