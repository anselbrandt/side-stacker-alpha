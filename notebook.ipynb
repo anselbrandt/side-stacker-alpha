{
 "cells": [
  {
   "cell_type": "code",
   "execution_count": 19,
   "metadata": {},
   "outputs": [],
   "source": [
    "from random import choice\n",
    "\n",
    "from game import valid, new_board, win_condition, next_player\n",
    "\n",
    "\n",
    "def selector(board, player):\n",
    "    possible_moves = valid(board)\n",
    "    if not len(possible_moves):\n",
    "        return False\n",
    "    i, j = choice(possible_moves)\n",
    "    symbol = player\n",
    "    return (i, j, symbol)"
   ]
  },
  {
   "cell_type": "code",
   "execution_count": 20,
   "metadata": {},
   "outputs": [],
   "source": [
    "results = []\n",
    "final_state = []\n",
    "\n",
    "for n in range(100000):\n",
    "    board = new_board()\n",
    "    winning_condition = False\n",
    "    turn = 1\n",
    "    player = \"X\"\n",
    "\n",
    "    while not winning_condition:\n",
    "        current_board = board\n",
    "        current_player = player\n",
    "        move = selector(current_board, current_player)\n",
    "        if move:\n",
    "            i, j, symbol = move\n",
    "            current_board[i][j] = current_player\n",
    "            winning_condition = win_condition(current_board, current_player)\n",
    "            if winning_condition:\n",
    "                break\n",
    "            else:\n",
    "                player = next_player(current_player)\n",
    "                if player == \"X\":\n",
    "                    turn += 1\n",
    "        else:\n",
    "            winning_condition = \"tie\"\n",
    "\n",
    "    result = (player, turn, winning_condition, board)\n",
    "    results.append(result)\n",
    "    final_state.append(board)"
   ]
  },
  {
   "cell_type": "code",
   "execution_count": 21,
   "metadata": {},
   "outputs": [
    {
     "name": "stdout",
     "output_type": "stream",
     "text": [
      "x win rate:  0.54\n",
      "turns:  14.0\n",
      "ties:  34\n",
      "x:  54165\n",
      "o:  45835\n",
      "vert:  46285\n",
      "horiz:  34722\n",
      "diag :  18959\n"
     ]
    }
   ],
   "source": [
    "from game import get_stats\n",
    "\n",
    "stats = get_stats(results)\n",
    "\n",
    "total = len(stats.x) + len(stats.o) + len(stats.ties)\n",
    "wins = len(stats.x) / total\n",
    "print(\"x win rate: \", round(wins, 2))\n",
    "print(\"turns: \", stats.median)\n",
    "print(\"ties: \", len(stats.ties))\n",
    "print(\"x: \", len(stats.x))\n",
    "print(\"o: \", len(stats.o))\n",
    "print(\"vert: \", len(stats.vert))\n",
    "print(\"horiz: \", len(stats.horiz))\n",
    "print(\"diag : \", len(stats.diag))"
   ]
  }
 ],
 "metadata": {
  "kernelspec": {
   "display_name": ".venv",
   "language": "python",
   "name": "python3"
  },
  "language_info": {
   "codemirror_mode": {
    "name": "ipython",
    "version": 3
   },
   "file_extension": ".py",
   "mimetype": "text/x-python",
   "name": "python",
   "nbconvert_exporter": "python",
   "pygments_lexer": "ipython3",
   "version": "3.12.8"
  }
 },
 "nbformat": 4,
 "nbformat_minor": 2
}
