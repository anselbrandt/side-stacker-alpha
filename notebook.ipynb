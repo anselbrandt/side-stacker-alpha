{
 "cells": [
  {
   "cell_type": "code",
   "execution_count": 30,
   "metadata": {},
   "outputs": [],
   "source": [
    "from random import choice\n",
    "\n",
    "from game import valid, new_board, win_condition, next_player\n",
    "\n",
    "n = 10000\n",
    "x = 0\n",
    "o = 0\n",
    "turns = []\n",
    "\n",
    "for m in range(n):\n",
    "    board = new_board()\n",
    "    winning_condition = False\n",
    "    turn = 1\n",
    "    player = \"X\"\n",
    "\n",
    "    while not winning_condition:\n",
    "        current_board = board\n",
    "        current_player = player\n",
    "        valid_moves = valid(board)\n",
    "        if len(valid_moves):\n",
    "            i, j = choice(valid_moves)\n",
    "            current_board[i][j] = current_player\n",
    "            winning_condition = win_condition(current_board, current_player)\n",
    "            if winning_condition:\n",
    "                break\n",
    "            else:\n",
    "                player = next_player(current_player)\n",
    "                if player == \"X\":\n",
    "                    turn += 1\n",
    "        else:\n",
    "            winning_condition = \"tie\"\n",
    "\n",
    "    if player == \"X\":\n",
    "        x += 1\n",
    "    if player == \"O\":\n",
    "        o += 1\n",
    "    turns.append(turn)"
   ]
  },
  {
   "cell_type": "code",
   "execution_count": 31,
   "metadata": {},
   "outputs": [
    {
     "data": {
      "text/plain": [
       "0.5431"
      ]
     },
     "execution_count": 31,
     "metadata": {},
     "output_type": "execute_result"
    }
   ],
   "source": [
    "x / (x + o)"
   ]
  }
 ],
 "metadata": {
  "kernelspec": {
   "display_name": ".venv",
   "language": "python",
   "name": "python3"
  },
  "language_info": {
   "codemirror_mode": {
    "name": "ipython",
    "version": 3
   },
   "file_extension": ".py",
   "mimetype": "text/x-python",
   "name": "python",
   "nbconvert_exporter": "python",
   "pygments_lexer": "ipython3",
   "version": "3.12.8"
  }
 },
 "nbformat": 4,
 "nbformat_minor": 2
}
