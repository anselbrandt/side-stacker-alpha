{
 "cells": [
  {
   "cell_type": "code",
   "execution_count": 4,
   "metadata": {},
   "outputs": [],
   "source": [
    "from random import choice\n",
    "\n",
    "from game import valid, win_condition, next_player, game_updater, get_optimal, Board\n",
    "\n",
    "liklehood_boards = []\n",
    "\n",
    "for idx in range(100):\n",
    "    initial_board, initial_turn, initial_player, initial_winning_condition = (\n",
    "        game_updater(moves=[])\n",
    "    )\n",
    "\n",
    "    liklehood_board: Board = [row[:] for row in initial_board]\n",
    "    initial_moves = valid(initial_board)\n",
    "\n",
    "    for initial_move in initial_moves:\n",
    "        n = 100\n",
    "        x = 0\n",
    "        o = 0\n",
    "        turns = []\n",
    "\n",
    "        for m in range(n):\n",
    "            board = [row[:] for row in initial_board]\n",
    "            turn = initial_turn\n",
    "            player = initial_player\n",
    "            winning_condition = initial_winning_condition\n",
    "\n",
    "            while not winning_condition:\n",
    "                opponent = \"O\" if player == \"X\" else \"X\"\n",
    "                valid_moves = valid(board)\n",
    "                winning_moves = get_optimal(board, valid_moves, player)\n",
    "                blocking_moves = get_optimal(board, valid_moves, opponent)\n",
    "                if len(winning_moves):\n",
    "                    valid_moves = winning_moves\n",
    "                if len(blocking_moves):\n",
    "                    valid_moves = blocking_moves\n",
    "                if initial_move and turn == initial_turn:\n",
    "                    valid_moves = [initial_move]\n",
    "                if len(valid_moves):\n",
    "                    i, j = choice(valid_moves)\n",
    "                    board[i][j] = player\n",
    "                    winning_condition = win_condition(board, player)\n",
    "                    if winning_condition:\n",
    "                        break\n",
    "                    else:\n",
    "                        player = next_player(player)\n",
    "                        if player == \"X\":\n",
    "                            turn += 1\n",
    "                else:\n",
    "                    winning_condition = \"tie\"\n",
    "\n",
    "            if player == \"X\":\n",
    "                x += 1\n",
    "            if player == \"O\":\n",
    "                o += 1\n",
    "            turns.append(turn)\n",
    "\n",
    "        u, v = initial_move\n",
    "        liklehood_board[u][v] = x / (x + o)\n",
    "    liklehood_boards.append(liklehood_board)"
   ]
  },
  {
   "cell_type": "code",
   "execution_count": 43,
   "metadata": {},
   "outputs": [
    {
     "name": "stdout",
     "output_type": "stream",
     "text": [
      "[(0.52, 0.04663754502609037), None, None, None, None, None, (0.53, 0.04685028809889535)]\n",
      "[(0.52, 0.04555870893249676), None, None, None, None, None, (0.5, 0.05108914767444266)]\n",
      "[(0.49, 0.04979260015607772), None, None, None, None, None, (0.49, 0.04582917336493352)]\n",
      "[(0.45, 0.04787135538781691), None, None, None, None, None, (0.44, 0.049612131947373884)]\n",
      "[(0.49, 0.05324955541143186), None, None, None, None, None, (0.5, 0.053421423463330564)]\n",
      "[(0.51, 0.04792871390055878), None, None, None, None, None, (0.51, 0.05229713088678861)]\n",
      "[(0.53, 0.04923905816001001), None, None, None, None, None, (0.52, 0.05050012501234652)]\n"
     ]
    }
   ],
   "source": [
    "from statistics import median, stdev\n",
    "\n",
    "liklehood_data = [\n",
    "    [[], None, None, None, None, None, []],\n",
    "    [[], None, None, None, None, None, []],\n",
    "    [[], None, None, None, None, None, []],\n",
    "    [[], None, None, None, None, None, []],\n",
    "    [[], None, None, None, None, None, []],\n",
    "    [[], None, None, None, None, None, []],\n",
    "    [[], None, None, None, None, None, []],\n",
    "]\n",
    "\n",
    "for board in liklehood_boards:\n",
    "    for i, row in enumerate(board):\n",
    "        for j, value in enumerate(row):\n",
    "            if value:\n",
    "                liklehood_data[i][j].append(value)\n",
    "\n",
    "liklehood_stats = [\n",
    "    [(median(item), stdev(item)) if isinstance(item, list) else item for item in row]\n",
    "    for row in liklehood_data\n",
    "]\n",
    "\n",
    "for row in liklehood_stats:\n",
    "    print(row)"
   ]
  }
 ],
 "metadata": {
  "kernelspec": {
   "display_name": ".venv",
   "language": "python",
   "name": "python3"
  },
  "language_info": {
   "codemirror_mode": {
    "name": "ipython",
    "version": 3
   },
   "file_extension": ".py",
   "mimetype": "text/x-python",
   "name": "python",
   "nbconvert_exporter": "python",
   "pygments_lexer": "ipython3",
   "version": "3.12.8"
  }
 },
 "nbformat": 4,
 "nbformat_minor": 2
}
