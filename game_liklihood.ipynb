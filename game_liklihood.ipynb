{
 "cells": [
  {
   "cell_type": "code",
   "execution_count": 8,
   "metadata": {},
   "outputs": [],
   "source": [
    "from random import choice\n",
    "\n",
    "from game import valid, win_condition, next_player, game_updater, get_optimal, Board\n",
    "\n",
    "\n",
    "initial_board, initial_turn, initial_player, initial_winning_condition = game_updater(\n",
    "    moves=[]\n",
    ")\n",
    "\n",
    "likelihood_board: Board = [row[:] for row in initial_board]\n",
    "initial_moves = valid(initial_board)\n",
    "\n",
    "for initial_move in initial_moves:\n",
    "    n = 100\n",
    "    x = 0\n",
    "    o = 0\n",
    "    tie = 0\n",
    "    turns = []\n",
    "\n",
    "    for m in range(n):\n",
    "        board = [row[:] for row in initial_board]\n",
    "        turn = initial_turn\n",
    "        player = initial_player\n",
    "        winning_condition = initial_winning_condition\n",
    "        while not winning_condition:\n",
    "            opponent = \"O\" if player == \"X\" else \"X\"\n",
    "            valid_moves = valid(board)\n",
    "            winning_moves = get_optimal(board, valid_moves, player)\n",
    "            blocking_moves = get_optimal(board, valid_moves, opponent)\n",
    "            if len(winning_moves):\n",
    "                valid_moves = winning_moves\n",
    "            if len(blocking_moves):\n",
    "                valid_moves = blocking_moves\n",
    "            if initial_move and turn == initial_turn:\n",
    "                valid_moves = [initial_move]\n",
    "            if len(valid_moves):\n",
    "                i, j = choice(valid_moves)\n",
    "                board[i][j] = player\n",
    "                winning_condition = win_condition(board, player)\n",
    "                if winning_condition:\n",
    "                    if player == \"X\":\n",
    "                        x += 1\n",
    "                    if player == \"O\":\n",
    "                        o += 1\n",
    "                    break\n",
    "                else:\n",
    "                    player = next_player(player)\n",
    "                    if player == \"X\":\n",
    "                        turn += 1\n",
    "            else:\n",
    "                tie += 1\n",
    "                winning_condition = \"tie\"\n",
    "        turns.append(turn)\n",
    "    u, v = initial_move\n",
    "    likelihood_board[u][v] = (x, o, tie)"
   ]
  },
  {
   "cell_type": "code",
   "execution_count": 9,
   "metadata": {},
   "outputs": [
    {
     "name": "stdout",
     "output_type": "stream",
     "text": [
      "[(0.1, 0.975), None, None, None, None, None, (0.13, 0.956)]\n",
      "[(-0.01, 0.975), None, None, None, None, None, (0.06, 0.978)]\n",
      "[(-0.01, 0.964), None, None, None, None, None, (-0.02, 0.98)]\n",
      "[(-0.23, 0.947), None, None, None, None, None, (-0.1, 0.975)]\n",
      "[(-0.15, 0.984), None, None, None, None, None, (-0.01, 0.964)]\n",
      "[(-0.19, 0.956), None, None, None, None, None, (-0.14, 0.959)]\n",
      "[(0.02, 0.98), None, None, None, None, None, (-0.11, 0.958)]\n"
     ]
    }
   ],
   "source": [
    "from math import sqrt\n",
    "\n",
    "\n",
    "def get_stats(outcome):\n",
    "    x, o, tie = outcome\n",
    "    total = x + o + tie\n",
    "    x_prob = x / total\n",
    "    o_prob = o / total\n",
    "    tie_prob = tie / total\n",
    "    median = x_prob - o_prob\n",
    "    variance = (\n",
    "        ((0 - median) ** 2 * tie_prob)\n",
    "        + ((1 - median) ** 2 * x_prob)\n",
    "        + ((-1 - median) ** 2 * o_prob)\n",
    "    )\n",
    "    std_dev = sqrt(variance)\n",
    "    return (round(median, 3), round(std_dev, 3))\n",
    "\n",
    "\n",
    "result = [\n",
    "    [get_stats(item) if isinstance(item, tuple) else item for item in row]\n",
    "    for row in likelihood_board\n",
    "]\n",
    "\n",
    "for row in result:\n",
    "    print(row)"
   ]
  }
 ],
 "metadata": {
  "kernelspec": {
   "display_name": ".venv",
   "language": "python",
   "name": "python3"
  },
  "language_info": {
   "codemirror_mode": {
    "name": "ipython",
    "version": 3
   },
   "file_extension": ".py",
   "mimetype": "text/x-python",
   "name": "python",
   "nbconvert_exporter": "python",
   "pygments_lexer": "ipython3",
   "version": "3.12.8"
  }
 },
 "nbformat": 4,
 "nbformat_minor": 2
}
