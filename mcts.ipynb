{
 "cells": [
  {
   "cell_type": "code",
   "execution_count": 6,
   "metadata": {},
   "outputs": [],
   "source": [
    "from math import log, sqrt\n",
    "\n",
    "from game import game_updater\n",
    "\n",
    "board, turn, player, win = game_updater(moves=[])\n",
    "\n",
    "\n",
    "# Upper Confidence bound for Tree\n",
    "def uct(wins, n, n_parent, explore):\n",
    "    win_ratio = wins / n\n",
    "    confidence_interval = sqrt(log(n_parent) / n)\n",
    "    return win_ratio + (explore * confidence_interval)"
   ]
  }
 ],
 "metadata": {
  "kernelspec": {
   "display_name": ".venv",
   "language": "python",
   "name": "python3"
  },
  "language_info": {
   "codemirror_mode": {
    "name": "ipython",
    "version": 3
   },
   "file_extension": ".py",
   "mimetype": "text/x-python",
   "name": "python",
   "nbconvert_exporter": "python",
   "pygments_lexer": "ipython3",
   "version": "3.12.8"
  }
 },
 "nbformat": 4,
 "nbformat_minor": 2
}
