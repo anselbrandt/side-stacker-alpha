{
 "cells": [
  {
   "cell_type": "code",
   "execution_count": 18,
   "metadata": {},
   "outputs": [
    {
     "name": "stdout",
     "output_type": "stream",
     "text": [
      "Statistics:  285900 rollouts in 6.0000069999999965 seconds\n",
      "MCTS chose move:  (0, 3) \n",
      "\n",
      "[1, 1, 1, 0, 0, 0, 0]\n",
      "[0, 0, 0, 0, 0, 0, 0]\n",
      "[0, 0, 0, 0, 0, 0, 2]\n",
      "[0, 0, 0, 0, 0, 0, 2]\n",
      "[2, 0, 0, 0, 0, 0, 2]\n",
      "[0, 0, 0, 0, 0, 0, 0]\n",
      "[1, 0, 0, 0, 0, 0, 0]\n",
      "\n",
      "All possible moves:\n",
      "(0, 3) -> 1.0\n",
      "(0, 6) -> 0.4058\n",
      "(1, 0) -> 0.443\n",
      "(1, 6) -> 0.5098\n",
      "(2, 5) -> 0.4512\n",
      "(2, 0) -> 0.4719\n",
      "(3, 5) -> 0.4894\n",
      "(3, 0) -> 0.443\n",
      "(4, 5) -> 0.4167\n",
      "(4, 1) -> 0.4085\n",
      "(5, 0) -> 0.4713\n",
      "(5, 6) -> 0.5492\n",
      "(6, 6) -> 0.3607\n",
      "(6, 1) -> 0.3559\n"
     ]
    }
   ],
   "source": [
    "from GameState import GameState\n",
    "from mcts import MCTS\n",
    "\n",
    "state = GameState()\n",
    "mcts = MCTS(state)\n",
    "user_move = (0, 0)\n",
    "move_2 = (3, 6)\n",
    "move_3 = (6, 0)\n",
    "move_4 = (4, 6)\n",
    "move_5 = (0, 1)\n",
    "move_6 = (4, 0)\n",
    "move_7 = (0, 2)\n",
    "move_8 = (2, 6)\n",
    "state.move(user_move)\n",
    "mcts.move(user_move)\n",
    "state.move(move_2)\n",
    "mcts.move(move_2)\n",
    "state.move(move_3)\n",
    "mcts.move(move_3)\n",
    "state.move(move_4)\n",
    "mcts.move(move_4)\n",
    "state.move(move_5)\n",
    "mcts.move(move_5)\n",
    "state.move(move_6)\n",
    "mcts.move(move_6)\n",
    "state.move(move_7)\n",
    "mcts.move(move_7)\n",
    "state.move(move_8)\n",
    "mcts.move(move_8)\n",
    "if not state.game_over():\n",
    "    mcts.search(6)\n",
    "else:\n",
    "    print(\"outcome: \", state.get_outcome())\n",
    "num_rollouts, run_time = mcts.statistics()\n",
    "print(\"Statistics: \", num_rollouts, \"rollouts in\", run_time, \"seconds\")\n",
    "result = mcts.all_moves()\n",
    "if result != -1:\n",
    "    move, all_moves = result\n",
    "    print(\"MCTS chose move: \", move, \"\\n\")\n",
    "    for row in state.board:\n",
    "        print(row)\n",
    "    print(\"\\nAll possible moves:\")\n",
    "    for pos, prob in all_moves:\n",
    "        print(f\"{pos} -> {round(prob, 4)}\")\n",
    "\n",
    "# train model to output 1, -1, 0 for win, loss, draw\n",
    "# pad probabilities with 0s so model output is always 7x7"
   ]
  }
 ],
 "metadata": {
  "kernelspec": {
   "display_name": ".venv",
   "language": "python",
   "name": "python3"
  },
  "language_info": {
   "codemirror_mode": {
    "name": "ipython",
    "version": 3
   },
   "file_extension": ".py",
   "mimetype": "text/x-python",
   "name": "python",
   "nbconvert_exporter": "python",
   "pygments_lexer": "ipython3",
   "version": "3.12.8"
  }
 },
 "nbformat": 4,
 "nbformat_minor": 2
}
