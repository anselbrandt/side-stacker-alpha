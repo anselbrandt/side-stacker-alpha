{
 "cells": [
  {
   "cell_type": "code",
   "execution_count": 2,
   "metadata": {},
   "outputs": [
    {
     "name": "stdout",
     "output_type": "stream",
     "text": [
      "Statistics:  15123 rollouts in 6.000260999999998 seconds\n",
      "MCTS chose move:  (3, 6)\n"
     ]
    }
   ],
   "source": [
    "from GameState import GameState\n",
    "from mcts import MCTS\n",
    "\n",
    "state = GameState()\n",
    "mcts = MCTS(state)\n",
    "user_move = (0, 0)\n",
    "state.move(user_move)\n",
    "mcts.move(user_move)\n",
    "mcts.search(6)\n",
    "num_rollouts, run_time = mcts.statistics()\n",
    "print(\"Statistics: \", num_rollouts, \"rollouts in\", run_time, \"seconds\")\n",
    "move = mcts.best_move()\n",
    "\n",
    "print(\"MCTS chose move: \", move)"
   ]
  }
 ],
 "metadata": {
  "kernelspec": {
   "display_name": ".venv",
   "language": "python",
   "name": "python3"
  },
  "language_info": {
   "codemirror_mode": {
    "name": "ipython",
    "version": 3
   },
   "file_extension": ".py",
   "mimetype": "text/x-python",
   "name": "python",
   "nbconvert_exporter": "python",
   "pygments_lexer": "ipython3",
   "version": "3.12.8"
  }
 },
 "nbformat": 4,
 "nbformat_minor": 2
}
