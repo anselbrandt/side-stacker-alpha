{
 "cells": [
  {
   "cell_type": "code",
   "execution_count": 2,
   "metadata": {},
   "outputs": [
    {
     "name": "stdout",
     "output_type": "stream",
     "text": [
      "Statistics:  15052 rollouts in 6.000033 seconds\n",
      "MCTS chose move:  (3, 0)\n",
      "\n",
      "All possible moves:\n",
      "(0, 1) -> 0.4667\n",
      "(0, 6) -> 0.4921\n",
      "(1, 0) -> 0.4746\n",
      "(1, 6) -> 0.4888\n",
      "(2, 0) -> 0.5068\n",
      "(2, 6) -> 0.5165\n",
      "(3, 6) -> 0.5369\n",
      "(3, 0) -> 0.5496\n",
      "(4, 6) -> 0.5192\n",
      "(4, 0) -> 0.5115\n",
      "(5, 0) -> 0.4529\n",
      "(5, 6) -> 0.4668\n",
      "(6, 6) -> 0.4767\n",
      "(6, 0) -> 0.4957\n"
     ]
    }
   ],
   "source": [
    "from GameState import GameState\n",
    "from mcts import MCTS\n",
    "\n",
    "state = GameState()\n",
    "mcts = MCTS(state)\n",
    "user_move = (0, 0)\n",
    "state.move(user_move)\n",
    "mcts.move(user_move)\n",
    "mcts.search(6)\n",
    "num_rollouts, run_time = mcts.statistics()\n",
    "print(\"Statistics: \", num_rollouts, \"rollouts in\", run_time, \"seconds\")\n",
    "result = mcts.all_moves()\n",
    "if result != -1:\n",
    "    move, all_moves = result\n",
    "    print(\"MCTS chose move: \", move)\n",
    "    print(\"\\nAll possible moves:\")\n",
    "    for pos, prob in all_moves:\n",
    "        print(f\"{pos} -> {round(prob, 4)}\")"
   ]
  }
 ],
 "metadata": {
  "kernelspec": {
   "display_name": ".venv",
   "language": "python",
   "name": "python3"
  },
  "language_info": {
   "codemirror_mode": {
    "name": "ipython",
    "version": 3
   },
   "file_extension": ".py",
   "mimetype": "text/x-python",
   "name": "python",
   "nbconvert_exporter": "python",
   "pygments_lexer": "ipython3",
   "version": "3.12.8"
  }
 },
 "nbformat": 4,
 "nbformat_minor": 2
}
